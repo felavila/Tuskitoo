{
 "cells": [
  {
   "cell_type": "markdown",
   "id": "16c75604",
   "metadata": {},
   "source": [
    "# EXAMPLE PLS EDIT ME"
   ]
  },
  {
   "cell_type": "code",
   "execution_count": 3,
   "id": "1212eb7a",
   "metadata": {},
   "outputs": [],
   "source": [
    "from tuskitoo.spectral_tools.spectral_tools import apply_telluric_correction,combine_2D_spectra\n",
    "from tuskitoo.SpectralExtraction.Expectra2D import Expectra2D\n",
    "import glob "
   ]
  },
  {
   "cell_type": "markdown",
   "id": "f5998e2f",
   "metadata": {},
   "source": [
    "- You have to add the path of the images and the teluric in the exact order do you one to run the telluric correction, you can check `apply_telluric_correction` and `combine_2D_spectra` for options. "
   ]
  },
  {
   "cell_type": "code",
   "execution_count": null,
   "id": "9bbec2be",
   "metadata": {},
   "outputs": [],
   "source": [
    "system = \"B1152+200\"\n",
    "data_path = f\"../../spectra_lens_paper/spectroscopic_data/{system}\"\n",
    "#others_paths = {\"Reduced_nodding\":sorted(glob.glob(f'{data_path}/Reduced_nodding/*/*')),\"Reduced_stare\":sorted(glob.glob(f'{data_path}/Reduced_nodding/*/*'))}\n",
    "path_images = ['../../spectra_lens_paper/spectroscopic_data/B1152+200/Reduced_nodding/OB1/B1152+200_1_SCI_SLIT_FLUX_MERGE2D_NIR.fits','../../spectra_lens_paper/spectroscopic_data/B1152+200/Reduced_nodding/OB2/B1152+200_2_SCI_SLIT_FLUX_MERGE2D_NIR.fits']\n",
    "path_tellurics = [\"../../spectra_lens_paper/spectroscopic_data/B1152+200/Reduced_nodding/OB1/TELLURIC_CORR_NIR_OB1.fits\",\"../../spectra_lens_paper/spectroscopic_data/B1152+200/Reduced_nodding/OB2/TELLURIC_CORR_NIR_OB2.fits\"]\n",
    "array = apply_telluric_correction(path_images,path_tellurics,save=True)\n",
    "paths_ = ['../../spectra_lens_paper/spectroscopic_data/B1152+200/Reduced_nodding/OB2/B1152+200_2_SCI_SLIT_FLUX_MERGE2D_NIR_TELL_COR.fits','../../spectra_lens_paper/spectroscopic_data/B1152+200/Reduced_nodding/OB1/B1152+200_1_SCI_SLIT_FLUX_MERGE2D_NIR_TELL_COR.fits']\n",
    "flux_comb, error_comb,quality_comb = combine_2D_spectra(paths_,save=True)  "
   ]
  },
  {
   "cell_type": "markdown",
   "id": "2a15b937",
   "metadata": {},
   "source": [
    "- for extraction you can use `save_to_fits`"
   ]
  },
  {
   "cell_type": "code",
   "execution_count": null,
   "id": "e1786777",
   "metadata": {},
   "outputs": [],
   "source": [
    "path_image = \"path of our combined image\"\n",
    "Image2d=Expectra2D(path_image,center_cut = 70,size_cut=30,verbose=True)\n",
    "Image2d.plot_cut_out()"
   ]
  },
  {
   "cell_type": "code",
   "execution_count": null,
   "id": "e617f64c",
   "metadata": {},
   "outputs": [],
   "source": [
    "Image2d.run_parallel_fit(n_picks=1,bound_sigma=[],distribution=\"gaussian\") #only one gaussian or 2 you can try "
   ]
  },
  {
   "cell_type": "code",
   "execution_count": null,
   "id": "3c8fc967",
   "metadata": {},
   "outputs": [],
   "source": [
    "Image2d.plot_spectra(ylim=[0,1e-15],force_pix=True) # to see you spectra "
   ]
  },
  {
   "cell_type": "markdown",
   "id": "70a89bb7",
   "metadata": {},
   "source": [
    "- Then you can use save_to_fits"
   ]
  },
  {
   "cell_type": "code",
   "execution_count": null,
   "id": "ddee4190",
   "metadata": {},
   "outputs": [],
   "source": [
    "Image2d.save_to_fits(\"filename do you want for your image\",person=\"F. Avila-Vera\")"
   ]
  }
 ],
 "metadata": {
  "kernelspec": {
   "display_name": "tuskitoo",
   "language": "python",
   "name": "python3"
  },
  "language_info": {
   "codemirror_mode": {
    "name": "ipython",
    "version": 3
   },
   "file_extension": ".py",
   "mimetype": "text/x-python",
   "name": "python",
   "nbconvert_exporter": "python",
   "pygments_lexer": "ipython3",
   "version": "3.10.17"
  }
 },
 "nbformat": 4,
 "nbformat_minor": 5
}
